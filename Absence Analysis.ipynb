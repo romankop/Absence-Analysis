{
 "cells": [
  {
   "cell_type": "markdown",
   "metadata": {},
   "source": [
    "# Absence Analysis"
   ]
  },
  {
   "cell_type": "code",
   "execution_count": 1,
   "metadata": {},
   "outputs": [],
   "source": [
    "import pandas as pd\n",
    "import matplotlib.pyplot as plt\n",
    "import seaborn as sb\n",
    "import numpy as np\n",
    "from sklearn.model_selection import train_test_split\n",
    "import scipy as sp\n",
    "from sklearn.ensemble import RandomForestClassifier\n",
    "import pickle\n",
    "from sklearn.model_selection import RandomizedSearchCV, GridSearchCV\n",
    "from sklearn import metrics\n",
    "from matplotlib.legend_handler import HandlerLine2D\n",
    "from sklearn.tree import export_graphviz\n",
    "import graphviz\n",
    "import os\n",
    "os.environ[\"PATH\"] += os.pathsep + 'C:/Program Files (x86)/Graphviz2.38/bin/'"
   ]
  },
  {
   "cell_type": "markdown",
   "metadata": {},
   "source": [
    "### Data uploading"
   ]
  },
  {
   "cell_type": "code",
   "execution_count": 2,
   "metadata": {},
   "outputs": [],
   "source": [
    "df = pd.read_excel(\"dzRF.xlsx\")"
   ]
  },
  {
   "cell_type": "markdown",
   "metadata": {},
   "source": [
    "### Explanatory Data Analysis"
   ]
  },
  {
   "cell_type": "code",
   "execution_count": 3,
   "metadata": {},
   "outputs": [
    {
     "name": "stdout",
     "output_type": "stream",
     "text": [
      "Количество наблюдений:  1952\n",
      "Количество атрибутов:  21\n"
     ]
    }
   ],
   "source": [
    "n_samples, n_features = df.shape\n",
    "\n",
    "print(\"Количество наблюдений: \", n_samples)\n",
    "print(\"Количество атрибутов: \", n_features)"
   ]
  },
  {
   "cell_type": "code",
   "execution_count": 4,
   "metadata": {},
   "outputs": [
    {
     "name": "stdout",
     "output_type": "stream",
     "text": [
      "Статистика по данным:\n"
     ]
    },
    {
     "data": {
      "text/html": [
       "<div>\n",
       "<style scoped>\n",
       "    .dataframe tbody tr th:only-of-type {\n",
       "        vertical-align: middle;\n",
       "    }\n",
       "\n",
       "    .dataframe tbody tr th {\n",
       "        vertical-align: top;\n",
       "    }\n",
       "\n",
       "    .dataframe thead th {\n",
       "        text-align: right;\n",
       "    }\n",
       "</style>\n",
       "<table border=\"1\" class=\"dataframe\">\n",
       "  <thead>\n",
       "    <tr style=\"text-align: right;\">\n",
       "      <th></th>\n",
       "      <th>book_tod</th>\n",
       "      <th>book_dow</th>\n",
       "      <th>book_category</th>\n",
       "      <th>book_staff</th>\n",
       "      <th>last_category</th>\n",
       "      <th>last_staff</th>\n",
       "      <th>last_day_services</th>\n",
       "      <th>last_receipt_tot</th>\n",
       "      <th>last_dow</th>\n",
       "      <th>last_tod</th>\n",
       "      <th>...</th>\n",
       "      <th>last_prod_flag</th>\n",
       "      <th>last_cumrev</th>\n",
       "      <th>last_cumbook</th>\n",
       "      <th>last_cumstyle</th>\n",
       "      <th>last_cumcolor</th>\n",
       "      <th>last_cumprod</th>\n",
       "      <th>last_cumcancel</th>\n",
       "      <th>last_cumnoshow</th>\n",
       "      <th>noshow</th>\n",
       "      <th>recency</th>\n",
       "    </tr>\n",
       "  </thead>\n",
       "  <tbody>\n",
       "    <tr>\n",
       "      <th>count</th>\n",
       "      <td>1717</td>\n",
       "      <td>1952</td>\n",
       "      <td>1952</td>\n",
       "      <td>1952</td>\n",
       "      <td>1003</td>\n",
       "      <td>1003</td>\n",
       "      <td>1952.000000</td>\n",
       "      <td>1952.000000</td>\n",
       "      <td>1003</td>\n",
       "      <td>858</td>\n",
       "      <td>...</td>\n",
       "      <td>1952.000000</td>\n",
       "      <td>1952.000000</td>\n",
       "      <td>1952.000000</td>\n",
       "      <td>1952.000000</td>\n",
       "      <td>1952.000000</td>\n",
       "      <td>1952.000000</td>\n",
       "      <td>1952.000000</td>\n",
       "      <td>1952.000000</td>\n",
       "      <td>1952.000000</td>\n",
       "      <td>1952.000000</td>\n",
       "    </tr>\n",
       "    <tr>\n",
       "      <th>unique</th>\n",
       "      <td>3</td>\n",
       "      <td>7</td>\n",
       "      <td>3</td>\n",
       "      <td>7</td>\n",
       "      <td>3</td>\n",
       "      <td>7</td>\n",
       "      <td>NaN</td>\n",
       "      <td>NaN</td>\n",
       "      <td>7</td>\n",
       "      <td>3</td>\n",
       "      <td>...</td>\n",
       "      <td>NaN</td>\n",
       "      <td>NaN</td>\n",
       "      <td>NaN</td>\n",
       "      <td>NaN</td>\n",
       "      <td>NaN</td>\n",
       "      <td>NaN</td>\n",
       "      <td>NaN</td>\n",
       "      <td>NaN</td>\n",
       "      <td>NaN</td>\n",
       "      <td>NaN</td>\n",
       "    </tr>\n",
       "    <tr>\n",
       "      <th>top</th>\n",
       "      <td>afternoon</td>\n",
       "      <td>Thursday</td>\n",
       "      <td>STYLE</td>\n",
       "      <td>JJ</td>\n",
       "      <td>STYLE</td>\n",
       "      <td>JJ</td>\n",
       "      <td>NaN</td>\n",
       "      <td>NaN</td>\n",
       "      <td>Thursday</td>\n",
       "      <td>afternoon</td>\n",
       "      <td>...</td>\n",
       "      <td>NaN</td>\n",
       "      <td>NaN</td>\n",
       "      <td>NaN</td>\n",
       "      <td>NaN</td>\n",
       "      <td>NaN</td>\n",
       "      <td>NaN</td>\n",
       "      <td>NaN</td>\n",
       "      <td>NaN</td>\n",
       "      <td>NaN</td>\n",
       "      <td>NaN</td>\n",
       "    </tr>\n",
       "    <tr>\n",
       "      <th>freq</th>\n",
       "      <td>735</td>\n",
       "      <td>417</td>\n",
       "      <td>1531</td>\n",
       "      <td>722</td>\n",
       "      <td>728</td>\n",
       "      <td>355</td>\n",
       "      <td>NaN</td>\n",
       "      <td>NaN</td>\n",
       "      <td>220</td>\n",
       "      <td>321</td>\n",
       "      <td>...</td>\n",
       "      <td>NaN</td>\n",
       "      <td>NaN</td>\n",
       "      <td>NaN</td>\n",
       "      <td>NaN</td>\n",
       "      <td>NaN</td>\n",
       "      <td>NaN</td>\n",
       "      <td>NaN</td>\n",
       "      <td>NaN</td>\n",
       "      <td>NaN</td>\n",
       "      <td>NaN</td>\n",
       "    </tr>\n",
       "    <tr>\n",
       "      <th>mean</th>\n",
       "      <td>NaN</td>\n",
       "      <td>NaN</td>\n",
       "      <td>NaN</td>\n",
       "      <td>NaN</td>\n",
       "      <td>NaN</td>\n",
       "      <td>NaN</td>\n",
       "      <td>0.545082</td>\n",
       "      <td>35.782679</td>\n",
       "      <td>NaN</td>\n",
       "      <td>NaN</td>\n",
       "      <td>...</td>\n",
       "      <td>0.114242</td>\n",
       "      <td>111.258197</td>\n",
       "      <td>1.906762</td>\n",
       "      <td>1.520492</td>\n",
       "      <td>0.325307</td>\n",
       "      <td>0.487193</td>\n",
       "      <td>0.280225</td>\n",
       "      <td>0.422643</td>\n",
       "      <td>0.114754</td>\n",
       "      <td>14.402152</td>\n",
       "    </tr>\n",
       "    <tr>\n",
       "      <th>std</th>\n",
       "      <td>NaN</td>\n",
       "      <td>NaN</td>\n",
       "      <td>NaN</td>\n",
       "      <td>NaN</td>\n",
       "      <td>NaN</td>\n",
       "      <td>NaN</td>\n",
       "      <td>0.658514</td>\n",
       "      <td>59.371877</td>\n",
       "      <td>NaN</td>\n",
       "      <td>NaN</td>\n",
       "      <td>...</td>\n",
       "      <td>0.318186</td>\n",
       "      <td>207.927702</td>\n",
       "      <td>3.315854</td>\n",
       "      <td>2.756585</td>\n",
       "      <td>0.827646</td>\n",
       "      <td>1.261275</td>\n",
       "      <td>0.853646</td>\n",
       "      <td>1.319786</td>\n",
       "      <td>0.318807</td>\n",
       "      <td>21.079495</td>\n",
       "    </tr>\n",
       "    <tr>\n",
       "      <th>min</th>\n",
       "      <td>NaN</td>\n",
       "      <td>NaN</td>\n",
       "      <td>NaN</td>\n",
       "      <td>NaN</td>\n",
       "      <td>NaN</td>\n",
       "      <td>NaN</td>\n",
       "      <td>0.000000</td>\n",
       "      <td>0.000000</td>\n",
       "      <td>NaN</td>\n",
       "      <td>NaN</td>\n",
       "      <td>...</td>\n",
       "      <td>0.000000</td>\n",
       "      <td>0.000000</td>\n",
       "      <td>0.000000</td>\n",
       "      <td>0.000000</td>\n",
       "      <td>0.000000</td>\n",
       "      <td>0.000000</td>\n",
       "      <td>0.000000</td>\n",
       "      <td>0.000000</td>\n",
       "      <td>0.000000</td>\n",
       "      <td>0.000000</td>\n",
       "    </tr>\n",
       "    <tr>\n",
       "      <th>25%</th>\n",
       "      <td>NaN</td>\n",
       "      <td>NaN</td>\n",
       "      <td>NaN</td>\n",
       "      <td>NaN</td>\n",
       "      <td>NaN</td>\n",
       "      <td>NaN</td>\n",
       "      <td>0.000000</td>\n",
       "      <td>0.000000</td>\n",
       "      <td>NaN</td>\n",
       "      <td>NaN</td>\n",
       "      <td>...</td>\n",
       "      <td>0.000000</td>\n",
       "      <td>0.000000</td>\n",
       "      <td>0.000000</td>\n",
       "      <td>0.000000</td>\n",
       "      <td>0.000000</td>\n",
       "      <td>0.000000</td>\n",
       "      <td>0.000000</td>\n",
       "      <td>0.000000</td>\n",
       "      <td>0.000000</td>\n",
       "      <td>0.000000</td>\n",
       "    </tr>\n",
       "    <tr>\n",
       "      <th>50%</th>\n",
       "      <td>NaN</td>\n",
       "      <td>NaN</td>\n",
       "      <td>NaN</td>\n",
       "      <td>NaN</td>\n",
       "      <td>NaN</td>\n",
       "      <td>NaN</td>\n",
       "      <td>0.000000</td>\n",
       "      <td>0.000000</td>\n",
       "      <td>NaN</td>\n",
       "      <td>NaN</td>\n",
       "      <td>...</td>\n",
       "      <td>0.000000</td>\n",
       "      <td>0.000000</td>\n",
       "      <td>1.000000</td>\n",
       "      <td>0.000000</td>\n",
       "      <td>0.000000</td>\n",
       "      <td>0.000000</td>\n",
       "      <td>0.000000</td>\n",
       "      <td>0.000000</td>\n",
       "      <td>0.000000</td>\n",
       "      <td>1.000000</td>\n",
       "    </tr>\n",
       "    <tr>\n",
       "      <th>75%</th>\n",
       "      <td>NaN</td>\n",
       "      <td>NaN</td>\n",
       "      <td>NaN</td>\n",
       "      <td>NaN</td>\n",
       "      <td>NaN</td>\n",
       "      <td>NaN</td>\n",
       "      <td>1.000000</td>\n",
       "      <td>60.000000</td>\n",
       "      <td>NaN</td>\n",
       "      <td>NaN</td>\n",
       "      <td>...</td>\n",
       "      <td>0.000000</td>\n",
       "      <td>132.000000</td>\n",
       "      <td>2.000000</td>\n",
       "      <td>2.000000</td>\n",
       "      <td>0.000000</td>\n",
       "      <td>0.000000</td>\n",
       "      <td>0.000000</td>\n",
       "      <td>0.000000</td>\n",
       "      <td>0.000000</td>\n",
       "      <td>27.000000</td>\n",
       "    </tr>\n",
       "    <tr>\n",
       "      <th>max</th>\n",
       "      <td>NaN</td>\n",
       "      <td>NaN</td>\n",
       "      <td>NaN</td>\n",
       "      <td>NaN</td>\n",
       "      <td>NaN</td>\n",
       "      <td>NaN</td>\n",
       "      <td>3.000000</td>\n",
       "      <td>382.800000</td>\n",
       "      <td>NaN</td>\n",
       "      <td>NaN</td>\n",
       "      <td>...</td>\n",
       "      <td>1.000000</td>\n",
       "      <td>1276.000000</td>\n",
       "      <td>20.000000</td>\n",
       "      <td>18.000000</td>\n",
       "      <td>7.000000</td>\n",
       "      <td>11.000000</td>\n",
       "      <td>8.000000</td>\n",
       "      <td>9.000000</td>\n",
       "      <td>1.000000</td>\n",
       "      <td>133.000000</td>\n",
       "    </tr>\n",
       "  </tbody>\n",
       "</table>\n",
       "<p>11 rows × 21 columns</p>\n",
       "</div>"
      ],
      "text/plain": [
       "         book_tod  book_dow book_category book_staff last_category last_staff  \\\n",
       "count        1717      1952          1952       1952          1003       1003   \n",
       "unique          3         7             3          7             3          7   \n",
       "top     afternoon  Thursday         STYLE         JJ         STYLE         JJ   \n",
       "freq          735       417          1531        722           728        355   \n",
       "mean          NaN       NaN           NaN        NaN           NaN        NaN   \n",
       "std           NaN       NaN           NaN        NaN           NaN        NaN   \n",
       "min           NaN       NaN           NaN        NaN           NaN        NaN   \n",
       "25%           NaN       NaN           NaN        NaN           NaN        NaN   \n",
       "50%           NaN       NaN           NaN        NaN           NaN        NaN   \n",
       "75%           NaN       NaN           NaN        NaN           NaN        NaN   \n",
       "max           NaN       NaN           NaN        NaN           NaN        NaN   \n",
       "\n",
       "        last_day_services  last_receipt_tot  last_dow   last_tod  ...  \\\n",
       "count         1952.000000       1952.000000      1003        858  ...   \n",
       "unique                NaN               NaN         7          3  ...   \n",
       "top                   NaN               NaN  Thursday  afternoon  ...   \n",
       "freq                  NaN               NaN       220        321  ...   \n",
       "mean             0.545082         35.782679       NaN        NaN  ...   \n",
       "std              0.658514         59.371877       NaN        NaN  ...   \n",
       "min              0.000000          0.000000       NaN        NaN  ...   \n",
       "25%              0.000000          0.000000       NaN        NaN  ...   \n",
       "50%              0.000000          0.000000       NaN        NaN  ...   \n",
       "75%              1.000000         60.000000       NaN        NaN  ...   \n",
       "max              3.000000        382.800000       NaN        NaN  ...   \n",
       "\n",
       "        last_prod_flag  last_cumrev  last_cumbook  last_cumstyle  \\\n",
       "count      1952.000000  1952.000000   1952.000000    1952.000000   \n",
       "unique             NaN          NaN           NaN            NaN   \n",
       "top                NaN          NaN           NaN            NaN   \n",
       "freq               NaN          NaN           NaN            NaN   \n",
       "mean          0.114242   111.258197      1.906762       1.520492   \n",
       "std           0.318186   207.927702      3.315854       2.756585   \n",
       "min           0.000000     0.000000      0.000000       0.000000   \n",
       "25%           0.000000     0.000000      0.000000       0.000000   \n",
       "50%           0.000000     0.000000      1.000000       0.000000   \n",
       "75%           0.000000   132.000000      2.000000       2.000000   \n",
       "max           1.000000  1276.000000     20.000000      18.000000   \n",
       "\n",
       "        last_cumcolor  last_cumprod  last_cumcancel  last_cumnoshow  \\\n",
       "count     1952.000000   1952.000000     1952.000000     1952.000000   \n",
       "unique            NaN           NaN             NaN             NaN   \n",
       "top               NaN           NaN             NaN             NaN   \n",
       "freq              NaN           NaN             NaN             NaN   \n",
       "mean         0.325307      0.487193        0.280225        0.422643   \n",
       "std          0.827646      1.261275        0.853646        1.319786   \n",
       "min          0.000000      0.000000        0.000000        0.000000   \n",
       "25%          0.000000      0.000000        0.000000        0.000000   \n",
       "50%          0.000000      0.000000        0.000000        0.000000   \n",
       "75%          0.000000      0.000000        0.000000        0.000000   \n",
       "max          7.000000     11.000000        8.000000        9.000000   \n",
       "\n",
       "             noshow      recency  \n",
       "count   1952.000000  1952.000000  \n",
       "unique          NaN          NaN  \n",
       "top             NaN          NaN  \n",
       "freq            NaN          NaN  \n",
       "mean       0.114754    14.402152  \n",
       "std        0.318807    21.079495  \n",
       "min        0.000000     0.000000  \n",
       "25%        0.000000     0.000000  \n",
       "50%        0.000000     1.000000  \n",
       "75%        0.000000    27.000000  \n",
       "max        1.000000   133.000000  \n",
       "\n",
       "[11 rows x 21 columns]"
      ]
     },
     "metadata": {},
     "output_type": "display_data"
    }
   ],
   "source": [
    "description = df.describe(include='all')\n",
    "\n",
    "print(\"Статистика по данным:\")\n",
    "display(description)"
   ]
  },
  {
   "cell_type": "code",
   "execution_count": 5,
   "metadata": {},
   "outputs": [
    {
     "name": "stdout",
     "output_type": "stream",
     "text": [
      "Количество пустых значений:\n"
     ]
    },
    {
     "data": {
      "text/plain": [
       "book_tod              235\n",
       "book_dow                0\n",
       "book_category           0\n",
       "book_staff              0\n",
       "last_category         949\n",
       "last_staff            949\n",
       "last_day_services       0\n",
       "last_receipt_tot        0\n",
       "last_dow              949\n",
       "last_tod             1094\n",
       "last_noshow             0\n",
       "last_prod_flag          0\n",
       "last_cumrev             0\n",
       "last_cumbook            0\n",
       "last_cumstyle           0\n",
       "last_cumcolor           0\n",
       "last_cumprod            0\n",
       "last_cumcancel          0\n",
       "last_cumnoshow          0\n",
       "noshow                  0\n",
       "recency                 0\n",
       "dtype: int64"
      ]
     },
     "metadata": {},
     "output_type": "display_data"
    }
   ],
   "source": [
    "print(\"Количество пустых значений:\")\n",
    "display(df.isnull().sum())"
   ]
  },
  {
   "cell_type": "markdown",
   "metadata": {},
   "source": [
    "### Data Wrangling"
   ]
  },
  {
   "cell_type": "code",
   "execution_count": 6,
   "metadata": {},
   "outputs": [],
   "source": [
    "df = pd.get_dummies(df)"
   ]
  },
  {
   "cell_type": "markdown",
   "metadata": {},
   "source": [
    "### EDA of prepared dataset"
   ]
  },
  {
   "cell_type": "code",
   "execution_count": 7,
   "metadata": {},
   "outputs": [
    {
     "name": "stdout",
     "output_type": "stream",
     "text": [
      "Количество наблюдений и атрибутов после замены категориальных переменных на фиктивные: (1952, 53)\n",
      "\n",
      "Количество пустых значений после замены категориальных переменных на фиктивные:\n"
     ]
    },
    {
     "data": {
      "text/plain": [
       "last_day_services      0\n",
       "last_receipt_tot       0\n",
       "last_noshow            0\n",
       "last_prod_flag         0\n",
       "last_cumrev            0\n",
       "last_cumbook           0\n",
       "last_cumstyle          0\n",
       "last_cumcolor          0\n",
       "last_cumprod           0\n",
       "last_cumcancel         0\n",
       "last_cumnoshow         0\n",
       "noshow                 0\n",
       "recency                0\n",
       "book_tod_afternoon     0\n",
       "book_tod_evening       0\n",
       "book_tod_morning       0\n",
       "book_dow_Friday        0\n",
       "book_dow_Monday        0\n",
       "book_dow_Saturday      0\n",
       "book_dow_Sunday        0\n",
       "book_dow_Thursday      0\n",
       "book_dow_Tuesday       0\n",
       "book_dow_Wednesday     0\n",
       "book_category_COLOR    0\n",
       "book_category_MISC     0\n",
       "book_category_STYLE    0\n",
       "book_staff_BECKY       0\n",
       "book_staff_HOUSE       0\n",
       "book_staff_JJ          0\n",
       "book_staff_JOANNE      0\n",
       "book_staff_KELLY       0\n",
       "book_staff_SINEAD      0\n",
       "book_staff_TANYA       0\n",
       "last_category_COLOR    0\n",
       "last_category_MISC     0\n",
       "last_category_STYLE    0\n",
       "last_staff_BECKY       0\n",
       "last_staff_HOUSE       0\n",
       "last_staff_JJ          0\n",
       "last_staff_JOANNE      0\n",
       "last_staff_KELLY       0\n",
       "last_staff_SINEAD      0\n",
       "last_staff_TANYA       0\n",
       "last_dow_Friday        0\n",
       "last_dow_Monday        0\n",
       "last_dow_Saturday      0\n",
       "last_dow_Sunday        0\n",
       "last_dow_Thursday      0\n",
       "last_dow_Tuesday       0\n",
       "last_dow_Wednesday     0\n",
       "last_tod_afternoon     0\n",
       "last_tod_evening       0\n",
       "last_tod_morning       0\n",
       "dtype: int64"
      ]
     },
     "metadata": {},
     "output_type": "display_data"
    }
   ],
   "source": [
    "print(\"Количество наблюдений и атрибутов после замены категориальных переменных на фиктивные:\", df.shape, end='\\n\\n')\n",
    "\n",
    "print(\"Количество пустых значений после замены категориальных переменных на фиктивные:\")\n",
    "display(df.isnull().sum())"
   ]
  },
  {
   "cell_type": "code",
   "execution_count": 8,
   "metadata": {},
   "outputs": [
    {
     "data": {
      "text/html": [
       "<div>\n",
       "<style scoped>\n",
       "    .dataframe tbody tr th:only-of-type {\n",
       "        vertical-align: middle;\n",
       "    }\n",
       "\n",
       "    .dataframe tbody tr th {\n",
       "        vertical-align: top;\n",
       "    }\n",
       "\n",
       "    .dataframe thead th {\n",
       "        text-align: right;\n",
       "    }\n",
       "</style>\n",
       "<table border=\"1\" class=\"dataframe\">\n",
       "  <thead>\n",
       "    <tr style=\"text-align: right;\">\n",
       "      <th></th>\n",
       "      <th>last_day_services</th>\n",
       "      <th>last_receipt_tot</th>\n",
       "      <th>last_noshow</th>\n",
       "      <th>last_prod_flag</th>\n",
       "      <th>last_cumrev</th>\n",
       "      <th>last_cumbook</th>\n",
       "      <th>last_cumstyle</th>\n",
       "      <th>last_cumcolor</th>\n",
       "      <th>last_cumprod</th>\n",
       "      <th>last_cumcancel</th>\n",
       "      <th>...</th>\n",
       "      <th>last_dow_Friday</th>\n",
       "      <th>last_dow_Monday</th>\n",
       "      <th>last_dow_Saturday</th>\n",
       "      <th>last_dow_Sunday</th>\n",
       "      <th>last_dow_Thursday</th>\n",
       "      <th>last_dow_Tuesday</th>\n",
       "      <th>last_dow_Wednesday</th>\n",
       "      <th>last_tod_afternoon</th>\n",
       "      <th>last_tod_evening</th>\n",
       "      <th>last_tod_morning</th>\n",
       "    </tr>\n",
       "  </thead>\n",
       "  <tbody>\n",
       "    <tr>\n",
       "      <th>count</th>\n",
       "      <td>1952.000000</td>\n",
       "      <td>1952.000000</td>\n",
       "      <td>1952.000000</td>\n",
       "      <td>1952.000000</td>\n",
       "      <td>1952.000000</td>\n",
       "      <td>1952.000000</td>\n",
       "      <td>1952.000000</td>\n",
       "      <td>1952.000000</td>\n",
       "      <td>1952.000000</td>\n",
       "      <td>1952.000000</td>\n",
       "      <td>...</td>\n",
       "      <td>1952.000000</td>\n",
       "      <td>1952.000000</td>\n",
       "      <td>1952.000000</td>\n",
       "      <td>1952.000000</td>\n",
       "      <td>1952.000000</td>\n",
       "      <td>1952.000000</td>\n",
       "      <td>1952.000000</td>\n",
       "      <td>1952.000000</td>\n",
       "      <td>1952.000000</td>\n",
       "      <td>1952.000000</td>\n",
       "    </tr>\n",
       "    <tr>\n",
       "      <th>mean</th>\n",
       "      <td>0.545082</td>\n",
       "      <td>35.782679</td>\n",
       "      <td>0.076332</td>\n",
       "      <td>0.114242</td>\n",
       "      <td>111.258197</td>\n",
       "      <td>1.906762</td>\n",
       "      <td>1.520492</td>\n",
       "      <td>0.325307</td>\n",
       "      <td>0.487193</td>\n",
       "      <td>0.280225</td>\n",
       "      <td>...</td>\n",
       "      <td>0.111680</td>\n",
       "      <td>0.000512</td>\n",
       "      <td>0.088627</td>\n",
       "      <td>0.015881</td>\n",
       "      <td>0.112705</td>\n",
       "      <td>0.102459</td>\n",
       "      <td>0.081967</td>\n",
       "      <td>0.164447</td>\n",
       "      <td>0.112705</td>\n",
       "      <td>0.162398</td>\n",
       "    </tr>\n",
       "    <tr>\n",
       "      <th>std</th>\n",
       "      <td>0.658514</td>\n",
       "      <td>59.371877</td>\n",
       "      <td>0.265597</td>\n",
       "      <td>0.318186</td>\n",
       "      <td>207.927702</td>\n",
       "      <td>3.315854</td>\n",
       "      <td>2.756585</td>\n",
       "      <td>0.827646</td>\n",
       "      <td>1.261275</td>\n",
       "      <td>0.853646</td>\n",
       "      <td>...</td>\n",
       "      <td>0.315053</td>\n",
       "      <td>0.022634</td>\n",
       "      <td>0.284277</td>\n",
       "      <td>0.125048</td>\n",
       "      <td>0.316313</td>\n",
       "      <td>0.303329</td>\n",
       "      <td>0.274385</td>\n",
       "      <td>0.370775</td>\n",
       "      <td>0.316313</td>\n",
       "      <td>0.368910</td>\n",
       "    </tr>\n",
       "    <tr>\n",
       "      <th>min</th>\n",
       "      <td>0.000000</td>\n",
       "      <td>0.000000</td>\n",
       "      <td>0.000000</td>\n",
       "      <td>0.000000</td>\n",
       "      <td>0.000000</td>\n",
       "      <td>0.000000</td>\n",
       "      <td>0.000000</td>\n",
       "      <td>0.000000</td>\n",
       "      <td>0.000000</td>\n",
       "      <td>0.000000</td>\n",
       "      <td>...</td>\n",
       "      <td>0.000000</td>\n",
       "      <td>0.000000</td>\n",
       "      <td>0.000000</td>\n",
       "      <td>0.000000</td>\n",
       "      <td>0.000000</td>\n",
       "      <td>0.000000</td>\n",
       "      <td>0.000000</td>\n",
       "      <td>0.000000</td>\n",
       "      <td>0.000000</td>\n",
       "      <td>0.000000</td>\n",
       "    </tr>\n",
       "    <tr>\n",
       "      <th>25%</th>\n",
       "      <td>0.000000</td>\n",
       "      <td>0.000000</td>\n",
       "      <td>0.000000</td>\n",
       "      <td>0.000000</td>\n",
       "      <td>0.000000</td>\n",
       "      <td>0.000000</td>\n",
       "      <td>0.000000</td>\n",
       "      <td>0.000000</td>\n",
       "      <td>0.000000</td>\n",
       "      <td>0.000000</td>\n",
       "      <td>...</td>\n",
       "      <td>0.000000</td>\n",
       "      <td>0.000000</td>\n",
       "      <td>0.000000</td>\n",
       "      <td>0.000000</td>\n",
       "      <td>0.000000</td>\n",
       "      <td>0.000000</td>\n",
       "      <td>0.000000</td>\n",
       "      <td>0.000000</td>\n",
       "      <td>0.000000</td>\n",
       "      <td>0.000000</td>\n",
       "    </tr>\n",
       "    <tr>\n",
       "      <th>50%</th>\n",
       "      <td>0.000000</td>\n",
       "      <td>0.000000</td>\n",
       "      <td>0.000000</td>\n",
       "      <td>0.000000</td>\n",
       "      <td>0.000000</td>\n",
       "      <td>1.000000</td>\n",
       "      <td>0.000000</td>\n",
       "      <td>0.000000</td>\n",
       "      <td>0.000000</td>\n",
       "      <td>0.000000</td>\n",
       "      <td>...</td>\n",
       "      <td>0.000000</td>\n",
       "      <td>0.000000</td>\n",
       "      <td>0.000000</td>\n",
       "      <td>0.000000</td>\n",
       "      <td>0.000000</td>\n",
       "      <td>0.000000</td>\n",
       "      <td>0.000000</td>\n",
       "      <td>0.000000</td>\n",
       "      <td>0.000000</td>\n",
       "      <td>0.000000</td>\n",
       "    </tr>\n",
       "    <tr>\n",
       "      <th>75%</th>\n",
       "      <td>1.000000</td>\n",
       "      <td>60.000000</td>\n",
       "      <td>0.000000</td>\n",
       "      <td>0.000000</td>\n",
       "      <td>132.000000</td>\n",
       "      <td>2.000000</td>\n",
       "      <td>2.000000</td>\n",
       "      <td>0.000000</td>\n",
       "      <td>0.000000</td>\n",
       "      <td>0.000000</td>\n",
       "      <td>...</td>\n",
       "      <td>0.000000</td>\n",
       "      <td>0.000000</td>\n",
       "      <td>0.000000</td>\n",
       "      <td>0.000000</td>\n",
       "      <td>0.000000</td>\n",
       "      <td>0.000000</td>\n",
       "      <td>0.000000</td>\n",
       "      <td>0.000000</td>\n",
       "      <td>0.000000</td>\n",
       "      <td>0.000000</td>\n",
       "    </tr>\n",
       "    <tr>\n",
       "      <th>max</th>\n",
       "      <td>3.000000</td>\n",
       "      <td>382.800000</td>\n",
       "      <td>1.000000</td>\n",
       "      <td>1.000000</td>\n",
       "      <td>1276.000000</td>\n",
       "      <td>20.000000</td>\n",
       "      <td>18.000000</td>\n",
       "      <td>7.000000</td>\n",
       "      <td>11.000000</td>\n",
       "      <td>8.000000</td>\n",
       "      <td>...</td>\n",
       "      <td>1.000000</td>\n",
       "      <td>1.000000</td>\n",
       "      <td>1.000000</td>\n",
       "      <td>1.000000</td>\n",
       "      <td>1.000000</td>\n",
       "      <td>1.000000</td>\n",
       "      <td>1.000000</td>\n",
       "      <td>1.000000</td>\n",
       "      <td>1.000000</td>\n",
       "      <td>1.000000</td>\n",
       "    </tr>\n",
       "  </tbody>\n",
       "</table>\n",
       "<p>8 rows × 53 columns</p>\n",
       "</div>"
      ],
      "text/plain": [
       "       last_day_services  last_receipt_tot  last_noshow  last_prod_flag  \\\n",
       "count        1952.000000       1952.000000  1952.000000     1952.000000   \n",
       "mean            0.545082         35.782679     0.076332        0.114242   \n",
       "std             0.658514         59.371877     0.265597        0.318186   \n",
       "min             0.000000          0.000000     0.000000        0.000000   \n",
       "25%             0.000000          0.000000     0.000000        0.000000   \n",
       "50%             0.000000          0.000000     0.000000        0.000000   \n",
       "75%             1.000000         60.000000     0.000000        0.000000   \n",
       "max             3.000000        382.800000     1.000000        1.000000   \n",
       "\n",
       "       last_cumrev  last_cumbook  last_cumstyle  last_cumcolor  last_cumprod  \\\n",
       "count  1952.000000   1952.000000    1952.000000    1952.000000   1952.000000   \n",
       "mean    111.258197      1.906762       1.520492       0.325307      0.487193   \n",
       "std     207.927702      3.315854       2.756585       0.827646      1.261275   \n",
       "min       0.000000      0.000000       0.000000       0.000000      0.000000   \n",
       "25%       0.000000      0.000000       0.000000       0.000000      0.000000   \n",
       "50%       0.000000      1.000000       0.000000       0.000000      0.000000   \n",
       "75%     132.000000      2.000000       2.000000       0.000000      0.000000   \n",
       "max    1276.000000     20.000000      18.000000       7.000000     11.000000   \n",
       "\n",
       "       last_cumcancel  ...  last_dow_Friday  last_dow_Monday  \\\n",
       "count     1952.000000  ...      1952.000000      1952.000000   \n",
       "mean         0.280225  ...         0.111680         0.000512   \n",
       "std          0.853646  ...         0.315053         0.022634   \n",
       "min          0.000000  ...         0.000000         0.000000   \n",
       "25%          0.000000  ...         0.000000         0.000000   \n",
       "50%          0.000000  ...         0.000000         0.000000   \n",
       "75%          0.000000  ...         0.000000         0.000000   \n",
       "max          8.000000  ...         1.000000         1.000000   \n",
       "\n",
       "       last_dow_Saturday  last_dow_Sunday  last_dow_Thursday  \\\n",
       "count        1952.000000      1952.000000        1952.000000   \n",
       "mean            0.088627         0.015881           0.112705   \n",
       "std             0.284277         0.125048           0.316313   \n",
       "min             0.000000         0.000000           0.000000   \n",
       "25%             0.000000         0.000000           0.000000   \n",
       "50%             0.000000         0.000000           0.000000   \n",
       "75%             0.000000         0.000000           0.000000   \n",
       "max             1.000000         1.000000           1.000000   \n",
       "\n",
       "       last_dow_Tuesday  last_dow_Wednesday  last_tod_afternoon  \\\n",
       "count       1952.000000         1952.000000         1952.000000   \n",
       "mean           0.102459            0.081967            0.164447   \n",
       "std            0.303329            0.274385            0.370775   \n",
       "min            0.000000            0.000000            0.000000   \n",
       "25%            0.000000            0.000000            0.000000   \n",
       "50%            0.000000            0.000000            0.000000   \n",
       "75%            0.000000            0.000000            0.000000   \n",
       "max            1.000000            1.000000            1.000000   \n",
       "\n",
       "       last_tod_evening  last_tod_morning  \n",
       "count       1952.000000       1952.000000  \n",
       "mean           0.112705          0.162398  \n",
       "std            0.316313          0.368910  \n",
       "min            0.000000          0.000000  \n",
       "25%            0.000000          0.000000  \n",
       "50%            0.000000          0.000000  \n",
       "75%            0.000000          0.000000  \n",
       "max            1.000000          1.000000  \n",
       "\n",
       "[8 rows x 53 columns]"
      ]
     },
     "metadata": {},
     "output_type": "display_data"
    }
   ],
   "source": [
    "display(df.describe(include='all'))"
   ]
  },
  {
   "cell_type": "code",
   "execution_count": 9,
   "metadata": {},
   "outputs": [
    {
     "data": {
      "image/png": "[encoded data removed]",
      "text/plain": [
       "<Figure size 432x288 with 1 Axes>"
      ]
     },
     "metadata": {
      "needs_background": "light"
     },
     "output_type": "display_data"
    },
    {
     "name": "stdout",
     "output_type": "stream",
     "text": [
      "11.475410 процентов клиентов не явились по записи.\n"
     ]
    }
   ],
   "source": [
    "df['noshow'].value_counts().plot(kind='bar')\n",
    "plt.title(\"Неявки\")\n",
    "plt.show();\n",
    "\n",
    "print(\"%f процентов клиентов не явились по записи.\" %((df.noshow[df.noshow==1].count()/df.noshow.count())*100))"
   ]
  },
  {
   "cell_type": "code",
   "execution_count": 10,
   "metadata": {},
   "outputs": [
    {
     "name": "stdout",
     "output_type": "stream",
     "text": [
      "Самая сильная корреляция:\n",
      "last_cumstyle        last_cumbook           0.971779\n",
      "last_cumbook         last_cumrev            0.946657\n",
      "last_cumstyle        last_cumrev            0.942458\n",
      "book_category_STYLE  book_category_COLOR    0.886694\n",
      "last_cumnoshow       last_cumstyle          0.810319\n",
      "last_cumprod         last_cumcolor          0.803109\n",
      "last_staff_JOANNE    last_category_COLOR    0.782214\n",
      "book_staff_JOANNE    book_category_COLOR    0.772077\n",
      "last_cumnoshow       last_cumbook           0.766798\n",
      "                     last_cumrev            0.764871\n",
      "dtype: float64\n"
     ]
    }
   ],
   "source": [
    "corr = df.corr()\n",
    "\n",
    "triangle = corr.abs().where(np.tril(np.ones(corr.shape), k=-1).astype(np.bool))\n",
    "print(\"Самая сильная корреляция:\")\n",
    "print(triangle.stack().sort_values(ascending=False)[:10])"
   ]
  },
  {
   "cell_type": "code",
   "execution_count": 11,
   "metadata": {},
   "outputs": [
    {
     "name": "stdout",
     "output_type": "stream",
     "text": [
      "Количество атрибутов после удаления сильно скоррелированных атрибутов: 50\n"
     ]
    }
   ],
   "source": [
    "to_drop = ['last_cumbook', 'last_cumstyle', 'book_category_COLOR']\n",
    "df = df.drop(to_drop, axis=1)\n",
    "\n",
    "print(\"Количество атрибутов после удаления сильно скоррелированных атрибутов:\", df.shape[1])"
   ]
  },
  {
   "cell_type": "markdown",
   "metadata": {},
   "source": [
    "### Data splitting"
   ]
  },
  {
   "cell_type": "code",
   "execution_count": 12,
   "metadata": {},
   "outputs": [],
   "source": [
    "y = df.noshow\n",
    "X = df.drop('noshow', axis=1)\n",
    "\n",
    "X_train, X_test, y_train, y_test = train_test_split(X, y, test_size=0.3, stratify=y)"
   ]
  },
  {
   "cell_type": "markdown",
   "metadata": {},
   "source": [
    "### Model defining"
   ]
  },
  {
   "cell_type": "code",
   "execution_count": 13,
   "metadata": {},
   "outputs": [],
   "source": [
    "clf = RandomForestClassifier(random_state=47, n_jobs=-1, n_estimators=200, class_weight='balanced_subsample')"
   ]
  },
  {
   "cell_type": "markdown",
   "metadata": {},
   "source": [
    "### Paramters for hypertuning"
   ]
  },
  {
   "cell_type": "code",
   "execution_count": 14,
   "metadata": {},
   "outputs": [],
   "source": [
    "param_distributions = {\"max_features\": list(range(1, X.shape[1])), \"max_depth\": list(range(5, 30))}"
   ]
  },
  {
   "cell_type": "markdown",
   "metadata": {},
   "source": [
    "### Model fitting"
   ]
  },
  {
   "cell_type": "code",
   "execution_count": 15,
   "metadata": {},
   "outputs": [
    {
     "name": "stdout",
     "output_type": "stream",
     "text": [
      "Результат на тестовых данных (модель по умолчанию): 66.297127\n"
     ]
    }
   ],
   "source": [
    "clf.fit(X_train, y_train)\n",
    "\n",
    "y_pred = clf.predict(X_test)\n",
    "\n",
    "print(\"Результат на тестовых данных (модель по умолчанию): %f\" % (100*metrics.balanced_accuracy_score(y_test, y_pred)))"
   ]
  },
  {
   "cell_type": "markdown",
   "metadata": {},
   "source": [
    "### Finding best hyperparameters"
   ]
  },
  {
   "cell_type": "code",
   "execution_count": 16,
   "metadata": {},
   "outputs": [
    {
     "data": {
      "text/plain": [
       "RandomizedSearchCV(cv=5, error_score=nan,\n",
       "                   estimator=RandomForestClassifier(bootstrap=True,\n",
       "                                                    ccp_alpha=0.0,\n",
       "                                                    class_weight='balanced_subsample',\n",
       "                                                    criterion='gini',\n",
       "                                                    max_depth=None,\n",
       "                                                    max_features='auto',\n",
       "                                                    max_leaf_nodes=None,\n",
       "                                                    max_samples=None,\n",
       "                                                    min_impurity_decrease=0.0,\n",
       "                                                    min_impurity_split=None,\n",
       "                                                    min_samples_leaf=1,\n",
       "                                                    min_samples_split=2,\n",
       "                                                    min_weight_fraction_leaf=0.0,\n",
       "                                                    n_estim...\n",
       "                   iid='deprecated', n_iter=50, n_jobs=-1,\n",
       "                   param_distributions={'max_depth': [5, 6, 7, 8, 9, 10, 11, 12,\n",
       "                                                      13, 14, 15, 16, 17, 18,\n",
       "                                                      19, 20, 21, 22, 23, 24,\n",
       "                                                      25, 26, 27, 28, 29],\n",
       "                                        'max_features': [1, 2, 3, 4, 5, 6, 7, 8,\n",
       "                                                         9, 10, 11, 12, 13, 14,\n",
       "                                                         15, 16, 17, 18, 19, 20,\n",
       "                                                         21, 22, 23, 24, 25, 26,\n",
       "                                                         27, 28, 29, 30, ...]},\n",
       "                   pre_dispatch='2*n_jobs', random_state=None, refit=True,\n",
       "                   return_train_score=False, scoring='balanced_accuracy',\n",
       "                   verbose=0)"
      ]
     },
     "execution_count": 16,
     "metadata": {},
     "output_type": "execute_result"
    }
   ],
   "source": [
    "random_search = RandomizedSearchCV(clf, param_distributions=param_distributions,\n",
    "                                   n_iter=50, cv=5, scoring=\"balanced_accuracy\", n_jobs=-1)\n",
    "\n",
    "random_search.fit(X_train, y_train)"
   ]
  },
  {
   "cell_type": "markdown",
   "metadata": {},
   "source": [
    "### Model evalutaion"
   ]
  },
  {
   "cell_type": "code",
   "execution_count": 17,
   "metadata": {},
   "outputs": [
    {
     "name": "stdout",
     "output_type": "stream",
     "text": [
      "Оптимальные параметры: {'max_features': 48, 'max_depth': 5}, оценка на учебных данных: 0.81\n"
     ]
    }
   ],
   "source": [
    "model = random_search.best_estimator_\n",
    "\n",
    "print(\"Оптимальные параметры: %s, оценка на учебных данных: %0.2f\" % (random_search.best_params_, random_search.best_score_))"
   ]
  },
  {
   "cell_type": "code",
   "execution_count": 18,
   "metadata": {},
   "outputs": [
    {
     "name": "stdout",
     "output_type": "stream",
     "text": [
      "Результат на тестовых данных: 84.591493\n"
     ]
    }
   ],
   "source": [
    "y_pred = model.predict(X_test)\n",
    "\n",
    "print(\"Результат на тестовых данных: %f\" % (100 * metrics.balanced_accuracy_score(y_test, y_pred)))"
   ]
  },
  {
   "cell_type": "code",
   "execution_count": 19,
   "metadata": {},
   "outputs": [
    {
     "name": "stdout",
     "output_type": "stream",
     "text": [
      "Матрица неточностей:\n"
     ]
    },
    {
     "data": {
      "text/html": [
       "<div>\n",
       "<style scoped>\n",
       "    .dataframe tbody tr th:only-of-type {\n",
       "        vertical-align: middle;\n",
       "    }\n",
       "\n",
       "    .dataframe tbody tr th {\n",
       "        vertical-align: top;\n",
       "    }\n",
       "\n",
       "    .dataframe thead th {\n",
       "        text-align: right;\n",
       "    }\n",
       "</style>\n",
       "<table border=\"1\" class=\"dataframe\">\n",
       "  <thead>\n",
       "    <tr style=\"text-align: right;\">\n",
       "      <th></th>\n",
       "      <th>0</th>\n",
       "      <th>1</th>\n",
       "    </tr>\n",
       "  </thead>\n",
       "  <tbody>\n",
       "    <tr>\n",
       "      <th>0</th>\n",
       "      <td>483</td>\n",
       "      <td>36</td>\n",
       "    </tr>\n",
       "    <tr>\n",
       "      <th>1</th>\n",
       "      <td>16</td>\n",
       "      <td>51</td>\n",
       "    </tr>\n",
       "  </tbody>\n",
       "</table>\n",
       "</div>"
      ],
      "text/plain": [
       "     0   1\n",
       "0  483  36\n",
       "1   16  51"
      ]
     },
     "metadata": {},
     "output_type": "display_data"
    }
   ],
   "source": [
    "cnf_matrix = metrics.confusion_matrix(y_test, y_pred)\n",
    "\n",
    "print(\"Матрица неточностей:\")\n",
    "display(pd.DataFrame(cnf_matrix))"
   ]
  },
  {
   "cell_type": "code",
   "execution_count": 20,
   "metadata": {},
   "outputs": [
    {
     "data": {
      "image/png": "[encoded data removed]",
      "text/plain": [
       "<Figure size 432x288 with 2 Axes>"
      ]
     },
     "metadata": {
      "needs_background": "light"
     },
     "output_type": "display_data"
    }
   ],
   "source": [
    "sb.heatmap(cnf_matrix, annot=True, cmap='Blues', fmt='g', xticklabels=[\"явка\", \"неявка\"], yticklabels=[\"явка\", \"неявка\"])\n",
    "plt.ylabel('Реальное значение')\n",
    "plt.xlabel('Предсказанное значение')\n",
    "plt.show();"
   ]
  },
  {
   "cell_type": "markdown",
   "metadata": {},
   "source": [
    "### Feature Importance"
   ]
  },
  {
   "cell_type": "code",
   "execution_count": 21,
   "metadata": {},
   "outputs": [
    {
     "data": {
      "image/png": "[encoded data removed]",
      "text/plain": [
       "<Figure size 864x1296 with 1 Axes>"
      ]
     },
     "metadata": {
      "needs_background": "light"
     },
     "output_type": "display_data"
    }
   ],
   "source": [
    "n_features = X.shape[1]\n",
    "plt.figure(figsize=(12,18))\n",
    "plt.barh(range(n_features), model.feature_importances_)\n",
    "plt.yticks(np.arange(n_features), X.columns.values.tolist(), fontstretch='ultra-expanded')\n",
    "plt.xlabel(\"Важность атрибута\")\n",
    "plt.tight_layout()\n",
    "plt.show();"
   ]
  },
  {
   "cell_type": "code",
   "execution_count": 22,
   "metadata": {},
   "outputs": [
    {
     "data": {
      "text/plain": [
       "'tree.png'"
      ]
     },
     "execution_count": 22,
     "metadata": {},
     "output_type": "execute_result"
    }
   ],
   "source": [
    "tree = model.estimators_[0]\n",
    "\n",
    "export_graphviz(tree, out_file=\"tree.dot\", class_names=[\"No churn\", \"Churn\"],\n",
    "                feature_names = X.columns.values.tolist(), impurity=False)\n",
    "\n",
    "with open(\"tree.dot\") as f:\n",
    "    tree_graph = f.read()\n",
    "\n",
    "graphviz.Source(tree_graph, filename=\"tree\", format='png').view()"
   ]
  }
 ],
 "metadata": {
  "kernelspec": {
   "display_name": "Python 3",
   "language": "python",
   "name": "python3"
  },
  "language_info": {
   "codemirror_mode": {
    "name": "ipython",
    "version": 3
   },
   "file_extension": ".py",
   "mimetype": "text/x-python",
   "name": "python",
   "nbconvert_exporter": "python",
   "pygments_lexer": "ipython3",
   "version": "3.7.1"
  }
 },
 "nbformat": 4,
 "nbformat_minor": 4
}
